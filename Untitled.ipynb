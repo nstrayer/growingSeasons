{
 "cells": [
  {
   "cell_type": "code",
   "execution_count": 26,
   "metadata": {
    "collapsed": true
   },
   "outputs": [],
   "source": [
    "import dryscrape\n",
    "import sys"
   ]
  },
  {
   "cell_type": "code",
   "execution_count": 27,
   "metadata": {
    "collapsed": true
   },
   "outputs": [],
   "source": [
    "# set up a web scraping session\n",
    "sess = dryscrape.Session(base_url = \"http://www.sustainabletable.org/seasonalfoodguide/\")"
   ]
  },
  {
   "cell_type": "code",
   "execution_count": 10,
   "metadata": {
    "collapsed": true
   },
   "outputs": [],
   "source": [
    "# we don't need images\n",
    "sess.set_attribute('auto_load_images', False)"
   ]
  },
  {
   "cell_type": "code",
   "execution_count": 22,
   "metadata": {
    "collapsed": false
   },
   "outputs": [
    {
     "ename": "AttributeError",
     "evalue": "'NoneType' object has no attribute 'text'",
     "output_type": "error",
     "traceback": [
      "\u001b[0;31m---------------------------------------------------------------------------\u001b[0m",
      "\u001b[0;31mAttributeError\u001b[0m                            Traceback (most recent call last)",
      "\u001b[0;32m<ipython-input-22-28af58cd78e0>\u001b[0m in \u001b[0;36m<module>\u001b[0;34m()\u001b[0m\n\u001b[1;32m      1\u001b[0m \u001b[0mstate\u001b[0m \u001b[0;34m=\u001b[0m \u001b[0msess\u001b[0m\u001b[0;34m.\u001b[0m\u001b[0mat_xpath\u001b[0m\u001b[0;34m(\u001b[0m\u001b[0;34m'//*[@id=\"state_select\"]'\u001b[0m\u001b[0;34m)\u001b[0m\u001b[0;34m\u001b[0m\u001b[0m\n\u001b[0;32m----> 2\u001b[0;31m \u001b[0mstate\u001b[0m\u001b[0;34m.\u001b[0m\u001b[0mtext\u001b[0m\u001b[0;34m(\u001b[0m\u001b[0;34m)\u001b[0m\u001b[0;34m\u001b[0m\u001b[0m\n\u001b[0m\u001b[1;32m      3\u001b[0m \u001b[0;31m#state.select(\"Michigan\")\u001b[0m\u001b[0;34m\u001b[0m\u001b[0;34m\u001b[0m\u001b[0m\n",
      "\u001b[0;31mAttributeError\u001b[0m: 'NoneType' object has no attribute 'text'"
     ]
    }
   ],
   "source": [
    "state = sess.at_xpath('//*[@id=\"state_select\"]')\n",
    "state.text()\n",
    "#state.select(\"Michigan\")"
   ]
  },
  {
   "cell_type": "code",
   "execution_count": 4,
   "metadata": {
    "collapsed": true
   },
   "outputs": [],
   "source": [
    "# visit homepage and search for a term\n",
    "sess.visit('/')\n",
    "q = sess.at_xpath('//*[@name=\"q\"]')\n",
    "q.set(search_term)\n",
    "q.form().submit()"
   ]
  },
  {
   "cell_type": "code",
   "execution_count": 5,
   "metadata": {
    "collapsed": false
   },
   "outputs": [
    {
     "name": "stdout",
     "output_type": "stream",
     "text": [
      "https://plus.google.com/?gpsrc=ogpy0&tab=wX\n",
      "https://www.google.com/webhp?tab=ww\n",
      "http://www.google.com/search?hl=en&q=dryscrape&gbv=2&um=1&ie=UTF-8&tbm=isch&source=og&sa=N&tab=wi\n",
      "http://maps.google.com/maps?hl=en&q=dryscrape&gbv=2&um=1&ie=UTF-8&sa=N&tab=wl\n",
      "https://play.google.com/?hl=en&q=dryscrape&gbv=2&um=1&ie=UTF-8&sa=N&tab=w8\n",
      "http://www.youtube.com/results?hl=en&q=dryscrape&gbv=2&um=1&ie=UTF-8&sa=N&tab=w1\n",
      "http://news.google.com/nwshp?hl=en&tab=wn\n",
      "https://mail.google.com/mail/?tab=wm\n",
      "https://www.google.com/intl/en/options/\n",
      "https://drive.google.com/?tab=wo\n",
      "https://www.google.com/calendar?tab=wc\n",
      "http://translate.google.com/?hl=en&q=dryscrape&gbv=2&um=1&ie=UTF-8&sa=N&tab=wT\n",
      "http://www.google.com/mobile/?hl=en&tab=wD\n",
      "http://www.google.com/search?hl=en&q=dryscrape&gbv=2&um=1&ie=UTF-8&tbo=u&tbm=bks&source=og&sa=N&tab=wp\n",
      "https://wallet.google.com/manage/?tab=wa\n",
      "http://www.google.com/search?hl=en&q=dryscrape&gbv=2&um=1&ie=UTF-8&tbo=u&tbm=shop&source=og&sa=N&tab=wf\n",
      "http://www.blogger.com/?tab=wj\n",
      "http://www.google.com/finance?hl=en&q=dryscrape&gbv=2&um=1&ie=UTF-8&sa=N&tab=we\n",
      "https://photos.google.com/?hl=en&q=dryscrape&gbv=2&um=1&ie=UTF-8&sa=N&tab=wq\n",
      "http://www.google.com/search?hl=en&q=dryscrape&gbv=2&um=1&ie=UTF-8&tbo=u&tbm=vid&source=og&sa=N&tab=wv\n",
      "https://docs.google.com/document/?usp=docs_alc\n",
      "https://www.google.com/intl/en/options/\n",
      "https://accounts.google.com/ServiceLogin?hl=en&passive=true&continue=http://www.google.com/search%3Fhl%3Den%26source%3Dhp%26q%3Ddryscrape%26gbv%3D2\n",
      "http://www.google.com/preferences?hl=en\n",
      "/preferences?hl=en\n",
      "http://www.google.com/history/optout?hl=en\n",
      "/webhp?hl=en\n",
      "/search?q=dryscrape&hl=en&gbv=2&prmd=ivns&source=lnms&tbm=isch&sa=X&ved=0ahUKEwjM3_vE-c3MAhUh04MKHf0lBbIQ_AUIBQ\n",
      "/search?q=dryscrape&hl=en&gbv=2&prmd=ivns&source=lnms&tbm=vid&sa=X&ved=0ahUKEwjM3_vE-c3MAhUh04MKHf0lBbIQ_AUIBg\n",
      "/search?q=dryscrape&hl=en&gbv=2&prmd=ivns&source=lnms&tbm=nws&sa=X&ved=0ahUKEwjM3_vE-c3MAhUh04MKHf0lBbIQ_AUIBw\n",
      "/search?q=dryscrape&hl=en&gbv=2&prmd=ivns&source=lnms&tbm=shop&sa=X&ved=0ahUKEwjM3_vE-c3MAhUh04MKHf0lBbIQ_AUICA\n",
      "http://maps.google.com/maps?hl=en&q=dryscrape&gbv=2&um=1&ie=UTF-8&sa=X&ved=0ahUKEwjM3_vE-c3MAhUh04MKHf0lBbIQ_AUICQ\n",
      "/search?q=dryscrape&hl=en&gbv=2&prmd=ivns&source=lnms&tbm=bks&sa=X&ved=0ahUKEwjM3_vE-c3MAhUh04MKHf0lBbIQ_AUICg\n",
      "/search?q=dryscrape&hl=en&gbv=2&prmd=ivns&source=lnt&tbs=qdr:h&sa=X&ved=0ahUKEwjM3_vE-c3MAhUh04MKHf0lBbIQpwUIDw\n",
      "/search?q=dryscrape&hl=en&gbv=2&prmd=ivns&source=lnt&tbs=qdr:d&sa=X&ved=0ahUKEwjM3_vE-c3MAhUh04MKHf0lBbIQpwUIDw\n",
      "/search?q=dryscrape&hl=en&gbv=2&prmd=ivns&source=lnt&tbs=qdr:w&sa=X&ved=0ahUKEwjM3_vE-c3MAhUh04MKHf0lBbIQpwUIDw\n",
      "/search?q=dryscrape&hl=en&gbv=2&prmd=ivns&source=lnt&tbs=qdr:m&sa=X&ved=0ahUKEwjM3_vE-c3MAhUh04MKHf0lBbIQpwUIDw\n",
      "/search?q=dryscrape&hl=en&gbv=2&prmd=ivns&source=lnt&tbs=qdr:y&sa=X&ved=0ahUKEwjM3_vE-c3MAhUh04MKHf0lBbIQpwUIDw\n",
      "/search?q=dryscrape&hl=en&gbv=2&prmd=ivns&source=lnt&tbs=li:1&sa=X&ved=0ahUKEwjM3_vE-c3MAhUh04MKHf0lBbIQpwUIDw\n",
      "/url?q=https://github.com/niklasb/dryscrape&sa=U&ved=0ahUKEwjM3_vE-c3MAhUh04MKHf0lBbIQFggUMAA&usg=AFQjCNHU5kuEf6vWfGydugpqa-e871nB-g\n",
      "/url?q=http://webcache.googleusercontent.com/search%3Fq%3Dcache:RsofnDaRWuUJ:https://github.com/niklasb/dryscrape%252Bdryscrape%26hl%3Den%26gbv%3D2%26ct%3Dclnk&sa=U&ved=0ahUKEwjM3_vE-c3MAhUh04MKHf0lBbIQIAgXMAA&usg=AFQjCNGWX6x6AM27YH6v0HLC-kKC2ogsXQ\n",
      "/search?hl=en&gbv=2&q=related:https://github.com/niklasb/dryscrape+dryscrape&tbo=1&sa=X&ved=0ahUKEwjM3_vE-c3MAhUh04MKHf0lBbIQHwgYMAA\n",
      "/url?q=https://github.com/niklasb/dryscrape/commits/master&sa=U&ved=0ahUKEwjM3_vE-c3MAhUh04MKHf0lBbIQ0gIIGigAMAA&usg=AFQjCNGmq42C2grbYRaWYN_dvrU4un0Kaw\n",
      "/url?q=https://github.com/niklasb/dryscrape/releases&sa=U&ved=0ahUKEwjM3_vE-c3MAhUh04MKHf0lBbIQ0gIIGygBMAA&usg=AFQjCNHpdIhuUjYgbdOeJ_bUPthcQaqDAA\n",
      "/url?q=https://github.com/niklasb/dryscrape/wiki&sa=U&ved=0ahUKEwjM3_vE-c3MAhUh04MKHf0lBbIQ0gIIHCgCMAA&usg=AFQjCNG844jSB1RzPURRp_CqyPGVwPwIfg\n",
      "/url?q=http://dryscrape.readthedocs.io/&sa=U&ved=0ahUKEwjM3_vE-c3MAhUh04MKHf0lBbIQFggeMAE&usg=AFQjCNElQK5kgXWxg792bHlx8R_XMbN4VA\n",
      "/url?q=http://webcache.googleusercontent.com/search%3Fq%3Dcache:bXrlPmPI9D4J:http://dryscrape.readthedocs.io/%252Bdryscrape%26hl%3Den%26gbv%3D2%26ct%3Dclnk&sa=U&ved=0ahUKEwjM3_vE-c3MAhUh04MKHf0lBbIQIAghMAE&usg=AFQjCNF79uzv_XyeuFmD9NXFafnzweEL5w\n",
      "/url?q=https://pypi.python.org/pypi/dryscrape&sa=U&ved=0ahUKEwjM3_vE-c3MAhUh04MKHf0lBbIQFggjMAI&usg=AFQjCNE2QYxem5GDmtTJR9EXzjcZmg2-XA\n",
      "/url?q=http://webcache.googleusercontent.com/search%3Fq%3Dcache:1kvog20NfdEJ:https://pypi.python.org/pypi/dryscrape%252Bdryscrape%26hl%3Den%26gbv%3D2%26ct%3Dclnk&sa=U&ved=0ahUKEwjM3_vE-c3MAhUh04MKHf0lBbIQIAgmMAI&usg=AFQjCNG7Q9xwUFhn46UKw76AWdFdbkV5Pg\n",
      "/url?q=https://readthedocs.org/projects/dryscrape/downloads/pdf/latest/&sa=U&ved=0ahUKEwjM3_vE-c3MAhUh04MKHf0lBbIQFggpMAM&usg=AFQjCNGATMNFPkp-vkaGs5aFIebWqINXCA\n",
      "/url?q=http://webcache.googleusercontent.com/search%3Fq%3Dcache:IkxSKrWsc2oJ:https://readthedocs.org/projects/dryscrape/downloads/pdf/latest/%252Bdryscrape%26hl%3Den%26gbv%3D2%26ct%3Dclnk&sa=U&ved=0ahUKEwjM3_vE-c3MAhUh04MKHf0lBbIQIAgsMAM&usg=AFQjCNF0QtmjmjYDHb38ekYEtndJQx5G2g\n",
      "/search?hl=en&gbv=2&q=related:https://readthedocs.org/projects/dryscrape/downloads/pdf/latest/+dryscrape&tbo=1&sa=X&ved=0ahUKEwjM3_vE-c3MAhUh04MKHf0lBbIQHwgtMAM\n",
      "/url?q=https://readthedocs.org/projects/dryscrape/&sa=U&ved=0ahUKEwjM3_vE-c3MAhUh04MKHf0lBbIQFggwMAQ&usg=AFQjCNEvFakLM1WscT9ZWTH9gFsrBkmk7g\n",
      "/url?q=http://webcache.googleusercontent.com/search%3Fq%3Dcache:8_lZ0LWapI8J:https://readthedocs.org/projects/dryscrape/%252Bdryscrape%26hl%3Den%26gbv%3D2%26ct%3Dclnk&sa=U&ved=0ahUKEwjM3_vE-c3MAhUh04MKHf0lBbIQIAgzMAQ&usg=AFQjCNHkeDsAom_eVasr9sX9THOSzN7gwQ\n",
      "/search?hl=en&gbv=2&q=related:https://readthedocs.org/projects/dryscrape/+dryscrape&tbo=1&sa=X&ved=0ahUKEwjM3_vE-c3MAhUh04MKHf0lBbIQHwg0MAQ\n",
      "/url?q=http://dryscrape.readthedocs.org/en/latest/_modules/webkit_server.html&sa=U&ved=0ahUKEwjM3_vE-c3MAhUh04MKHf0lBbIQFgg2MAU&usg=AFQjCNEErjiycfn1q4HZSbpvnZtViN8VkQ\n",
      "/url?q=http://webcache.googleusercontent.com/search%3Fq%3Dcache:eu3hL7wAersJ:http://dryscrape.readthedocs.org/en/latest/_modules/webkit_server.html%252Bdryscrape%26hl%3Den%26gbv%3D2%26ct%3Dclnk&sa=U&ved=0ahUKEwjM3_vE-c3MAhUh04MKHf0lBbIQIAg5MAU&usg=AFQjCNG1c83EtEDM_Vqzh6faTdb-I2DPaA\n",
      "/search?hl=en&gbv=2&q=related:dryscrape.readthedocs.org/en/latest/_modules/webkit_server.html+dryscrape&tbo=1&sa=X&ved=0ahUKEwjM3_vE-c3MAhUh04MKHf0lBbIQHwg6MAU\n",
      "/url?q=http://dryscrape.readthedocs.org/en/latest/_modules/dryscrape/driver/webkit.html&sa=U&ved=0ahUKEwjM3_vE-c3MAhUh04MKHf0lBbIQFgg8MAY&usg=AFQjCNGbzV-mTgM75Tcfj3g6sCXHenuVMg\n",
      "/url?q=http://webcache.googleusercontent.com/search%3Fq%3Dcache:rSLvmYMwNIkJ:http://dryscrape.readthedocs.org/en/latest/_modules/dryscrape/driver/webkit.html%252Bdryscrape%26hl%3Den%26gbv%3D2%26ct%3Dclnk&sa=U&ved=0ahUKEwjM3_vE-c3MAhUh04MKHf0lBbIQIAg_MAY&usg=AFQjCNHdmdPL7eJE80rnt1oG906B_SshbA\n",
      "/url?q=http://www.guguncube.com/1662/python-introduction-to-dryscrape-for-web-scraping-and-taking-screenshots&sa=U&ved=0ahUKEwjM3_vE-c3MAhUh04MKHf0lBbIQFghBMAc&usg=AFQjCNHvinkfLuEuqxXAhC0eFS--dKJCug\n",
      "/url?q=http://webcache.googleusercontent.com/search%3Fq%3Dcache:T5sF_fy4LesJ:http://www.guguncube.com/1662/python-introduction-to-dryscrape-for-web-scraping-and-taking-screenshots%252Bdryscrape%26hl%3Den%26gbv%3D2%26ct%3Dclnk&sa=U&ved=0ahUKEwjM3_vE-c3MAhUh04MKHf0lBbIQIAhEMAc&usg=AFQjCNGogm0aNBTNTy_x8-Hl6CATfmHyRg\n",
      "/search?hl=en&gbv=2&q=related:www.guguncube.com/1662/python-introduction-to-dryscrape-for-web-scraping-and-taking-screenshots+dryscrape&tbo=1&sa=X&ved=0ahUKEwjM3_vE-c3MAhUh04MKHf0lBbIQHwhFMAc\n",
      "/url?q=https://siongui.github.io/2016/01/06/python-web-scrape-javascript-webpage-by-dryscrape/&sa=U&ved=0ahUKEwjM3_vE-c3MAhUh04MKHf0lBbIQFghIMAg&usg=AFQjCNFTiVXGnEaT0i_x0H1ZKkGlOR-DWQ\n",
      "/url?q=http://webcache.googleusercontent.com/search%3Fq%3Dcache:OvvzGniLWtMJ:https://siongui.github.io/2016/01/06/python-web-scrape-javascript-webpage-by-dryscrape/%252Bdryscrape%26hl%3Den%26gbv%3D2%26ct%3Dclnk&sa=U&ved=0ahUKEwjM3_vE-c3MAhUh04MKHf0lBbIQIAhLMAg&usg=AFQjCNFaM3fzrbM3HSwgmGumJUXuTJEfdw\n",
      "/url?q=http://alternativeto.net/software/dryscrape/&sa=U&ved=0ahUKEwjM3_vE-c3MAhUh04MKHf0lBbIQFghOMAk&usg=AFQjCNFhYv-Kj3WTUVTkBP7gQL8spE6T4w\n",
      "/url?q=http://webcache.googleusercontent.com/search%3Fq%3Dcache:Bmd0ICQVD0EJ:http://alternativeto.net/software/dryscrape/%252Bdryscrape%26hl%3Den%26gbv%3D2%26ct%3Dclnk&sa=U&ved=0ahUKEwjM3_vE-c3MAhUh04MKHf0lBbIQIAhRMAk&usg=AFQjCNFoMPwMmaVhWXKNQK9AkuuMNSRa-A\n",
      "/search?hl=en&gbv=2&q=related:alternativeto.net/software/dryscrape/+dryscrape&tbo=1&sa=X&ved=0ahUKEwjM3_vE-c3MAhUh04MKHf0lBbIQHwhSMAk\n",
      "/search?hl=en&gbv=2&q=dryscrape+python&revid=1257353934&sa=X&ved=0ahUKEwjM3_vE-c3MAhUh04MKHf0lBbIQ1QIIVSgA\n",
      "/search?hl=en&gbv=2&q=dryscrape+examples&revid=1257353934&sa=X&ved=0ahUKEwjM3_vE-c3MAhUh04MKHf0lBbIQ1QIIVigB\n",
      "/search?hl=en&gbv=2&q=niklasb+dryscrape&revid=1257353934&sa=X&ved=0ahUKEwjM3_vE-c3MAhUh04MKHf0lBbIQ1QIIVygC\n",
      "/search?hl=en&gbv=2&q=dryscrape+tutorial&revid=1257353934&sa=X&ved=0ahUKEwjM3_vE-c3MAhUh04MKHf0lBbIQ1QIIWCgD\n",
      "/search?hl=en&gbv=2&q=dryscrape+import&revid=1257353934&sa=X&ved=0ahUKEwjM3_vE-c3MAhUh04MKHf0lBbIQ1QIIWSgE\n",
      "/search?hl=en&gbv=2&q=dryscrape+proxy&revid=1257353934&sa=X&ved=0ahUKEwjM3_vE-c3MAhUh04MKHf0lBbIQ1QIIWigF\n",
      "/search?hl=en&gbv=2&q=xvfb+dryscrape&revid=1257353934&sa=X&ved=0ahUKEwjM3_vE-c3MAhUh04MKHf0lBbIQ1QIIWygG\n",
      "/search?hl=en&gbv=2&q=python+scrape+javascript+page&revid=1257353934&sa=X&ved=0ahUKEwjM3_vE-c3MAhUh04MKHf0lBbIQ1QIIXCgH\n",
      "/search?q=dryscrape&hl=en&gbv=2&prmd=ivns&ei=xgIxV8zkNKGmjwT9y5SQCw&start=10&sa=N\n",
      "/search?q=dryscrape&hl=en&gbv=2&prmd=ivns&ei=xgIxV8zkNKGmjwT9y5SQCw&start=20&sa=N\n",
      "/search?q=dryscrape&hl=en&gbv=2&prmd=ivns&ei=xgIxV8zkNKGmjwT9y5SQCw&start=30&sa=N\n",
      "/search?q=dryscrape&hl=en&gbv=2&prmd=ivns&ei=xgIxV8zkNKGmjwT9y5SQCw&start=40&sa=N\n",
      "/search?q=dryscrape&hl=en&gbv=2&prmd=ivns&ei=xgIxV8zkNKGmjwT9y5SQCw&start=50&sa=N\n",
      "/search?q=dryscrape&hl=en&gbv=2&prmd=ivns&ei=xgIxV8zkNKGmjwT9y5SQCw&start=60&sa=N\n",
      "/search?q=dryscrape&hl=en&gbv=2&prmd=ivns&ei=xgIxV8zkNKGmjwT9y5SQCw&start=70&sa=N\n",
      "/search?q=dryscrape&hl=en&gbv=2&prmd=ivns&ei=xgIxV8zkNKGmjwT9y5SQCw&start=80&sa=N\n",
      "/search?q=dryscrape&hl=en&gbv=2&prmd=ivns&ei=xgIxV8zkNKGmjwT9y5SQCw&start=90&sa=N\n",
      "/search?q=dryscrape&hl=en&gbv=2&prmd=ivns&ei=xgIxV8zkNKGmjwT9y5SQCw&start=10&sa=N\n",
      "/advanced_search?q=dryscrape&hl=en&gbv=2&prmd=ivns\n",
      "/support/websearch/bin/answer.py?answer=134479&hl=en\n",
      "/tools/feedback/survey/html?productId=196&query=dryscrape&hl=en\n",
      "/\n",
      "/intl/en/ads\n",
      "/services\n",
      "/intl/en/policies/privacy/\n",
      "/intl/en/policies/terms/\n",
      "/intl/en/about.html\n"
     ]
    }
   ],
   "source": [
    "for link in sess.xpath('//a[@href]'):\n",
    "  print(link['href'])"
   ]
  },
  {
   "cell_type": "code",
   "execution_count": 16,
   "metadata": {
    "collapsed": true
   },
   "outputs": [],
   "source": [
    "state"
   ]
  },
  {
   "cell_type": "code",
   "execution_count": 29,
   "metadata": {
    "collapsed": false
   },
   "outputs": [
    {
     "ename": "XMLSyntaxError",
     "evalue": "None",
     "output_type": "error",
     "traceback": [
      "\u001b[0;36m  File \u001b[0;32m\"<string>\"\u001b[0;36m, line \u001b[0;32munknown\u001b[0m\n\u001b[0;31mXMLSyntaxError\u001b[0m\n"
     ]
    }
   ],
   "source": [
    "sess.document()"
   ]
  },
  {
   "cell_type": "code",
   "execution_count": null,
   "metadata": {
    "collapsed": true
   },
   "outputs": [],
   "source": []
  }
 ],
 "metadata": {
  "kernelspec": {
   "display_name": "Python 2",
   "language": "python",
   "name": "python2"
  },
  "language_info": {
   "codemirror_mode": {
    "name": "ipython",
    "version": 2
   },
   "file_extension": ".py",
   "mimetype": "text/x-python",
   "name": "python",
   "nbconvert_exporter": "python",
   "pygments_lexer": "ipython2",
   "version": "2.7.6"
  }
 },
 "nbformat": 4,
 "nbformat_minor": 0
}
